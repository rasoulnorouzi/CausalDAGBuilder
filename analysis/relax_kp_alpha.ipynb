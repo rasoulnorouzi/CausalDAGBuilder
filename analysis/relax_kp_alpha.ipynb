{
 "cells": [
  {
   "cell_type": "code",
   "execution_count": 6,
   "metadata": {},
   "outputs": [],
   "source": [
    "from relax_krippendorffs_alpha import KrippendorffSpanMatcher \n",
    "import os"
   ]
  },
  {
   "cell_type": "code",
   "execution_count": 7,
   "metadata": {},
   "outputs": [
    {
     "name": "stdout",
     "output_type": "stream",
     "text": [
      "rasoul: {'cause+effect', 'NONE', 'cause', 'effect'}\n",
      "caspar: {'cause+effect', 'NONE', 'cause', 'effect'}\n",
      "bennett: {'NONE', 'cause', 'effect'}\n",
      "---\n",
      "Relaxed Krippendorff's alpha: 0.7699289006134542\n"
     ]
    }
   ],
   "source": [
    "# -------------------------------\n",
    "# Example Usage\n",
    "# -------------------------------\n",
    "if __name__ == \"__main__\":\n",
    "    # Define file paths for the annotators.\n",
    "    # Assuming the jsonl files are in the same directory as this notebook\n",
    "    data_dir = os.path.dirname(os.path.abspath('__file__'))\n",
    "    paths = {\n",
    "        \"rasoul\": os.path.join(data_dir, 'rasoul.jsonl'),\n",
    "        \"caspar\": os.path.join(data_dir, 'caspar.jsonl'),\n",
    "        \"bennett\": os.path.join(data_dir, 'bennett.jsonl')\n",
    "    }\n",
    "    \n",
    "    # Create the matcher\n",
    "    matcher = KrippendorffSpanMatcher(annotator_paths=paths)\n",
    "    \n",
    "    # Report the unique labels for each annotator.\n",
    "    unique_labels = matcher.get_unique_labels()\n",
    "    for name, labels in unique_labels.items():\n",
    "        print(f\"{name}: {labels}\")\n",
    "        # Expected outputs:\n",
    "        # rasoul: {'NONE', 'effect', 'cause', 'cause+effect'}\n",
    "        # caspar: {'NONE', 'effect', 'cause', 'cause+effect'}\n",
    "        # bennett: {'NONE', 'effect', 'cause'}\n",
    "\n",
    "    print(\"---\")\n",
    "    # matching_mode set to \"relaxed\"\n",
    "    relaxed_matcher = KrippendorffSpanMatcher(annotator_paths=paths, matching_mode=\"relaxed\", targets=[\"cause\", \"effect\"])\n",
    "    # Compute and display relaxed Krippendorff's alpha.\n",
    "    relaxed_alpha = relaxed_matcher.compute_krippendorff_alpha()\n",
    "    print(\"Relaxed Krippendorff's alpha:\", relaxed_alpha)\n"
   ]
  }
 ],
 "metadata": {
  "kernelspec": {
   "display_name": "myenv",
   "language": "python",
   "name": "python3"
  },
  "language_info": {
   "codemirror_mode": {
    "name": "ipython",
    "version": 3
   },
   "file_extension": ".py",
   "mimetype": "text/x-python",
   "name": "python",
   "nbconvert_exporter": "python",
   "pygments_lexer": "ipython3",
   "version": "3.12.7"
  }
 },
 "nbformat": 4,
 "nbformat_minor": 2
}
