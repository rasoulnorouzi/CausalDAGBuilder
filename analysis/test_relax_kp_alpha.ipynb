{
 "cells": [
  {
   "cell_type": "code",
   "execution_count": 8,
   "metadata": {},
   "outputs": [],
   "source": [
    "from relax_krippendorffs_alpha import KrippendorffSpanMatcher \n",
    "from itertools import combinations\n",
    "import os"
   ]
  },
  {
   "cell_type": "code",
   "execution_count": null,
   "metadata": {},
   "outputs": [
    {
     "name": "stdout",
     "output_type": "stream",
     "text": [
      "---\n",
      "Relaxed Krippendorff's alpha: 0.4804530173231763\n"
     ]
    }
   ],
   "source": [
    "data_dir = os.path.dirname(os.path.abspath('__file__'))\n",
    "paths = {\n",
    "        \"rasoul\": os.path.join(data_dir, 'rasoul.jsonl'),\n",
    "        \"caspar\": os.path.join(data_dir, 'caspar.jsonl'),\n",
    "        \"bennett\": os.path.join(data_dir, 'bennett.jsonl'),\n",
    "        \"llama3.2\": os.path.join(data_dir, 'llama3.2.jsonl'),\n",
    "    }\n",
    "    \n",
    "print(\"---\")\n",
    "# matching_mode set to \"relaxed\"\n",
    "relaxed_matcher = KrippendorffSpanMatcher(annotator_paths=paths, matching_mode=\"relaxed\", targets=[\"cause\", \"effect\"])\n",
    "# Compute and display relaxed Krippendorff's alpha.\n",
    "relaxed_alpha = relaxed_matcher.compute_krippendorff_alpha()\n",
    "print(\"Relaxed Krippendorff's alpha:\", relaxed_alpha)"
   ]
  },
  {
   "cell_type": "code",
   "execution_count": 7,
   "metadata": {},
   "outputs": [
    {
     "name": "stdout",
     "output_type": "stream",
     "text": [
      "caspar: {'cause+effect', 'effect', 'cause', 'NONE'}\n",
      "llama3.2: {'cause+effect', 'effect', 'cause', 'NONE'}\n"
     ]
    }
   ],
   "source": [
    "    # # Report the unique labels for each annotator.\n",
    "    unique_labels = relaxed_matcher.get_unique_labels()\n",
    "    for name, labels in unique_labels.items():\n",
    "        print(f\"{name}: {labels}\")"
   ]
  },
  {
   "cell_type": "code",
   "execution_count": null,
   "metadata": {},
   "outputs": [],
   "source": []
  }
 ],
 "metadata": {
  "kernelspec": {
   "display_name": "myenv",
   "language": "python",
   "name": "python3"
  },
  "language_info": {
   "codemirror_mode": {
    "name": "ipython",
    "version": 3
   },
   "file_extension": ".py",
   "mimetype": "text/x-python",
   "name": "python",
   "nbconvert_exporter": "python",
   "pygments_lexer": "ipython3",
   "version": "3.12.7"
  }
 },
 "nbformat": 4,
 "nbformat_minor": 2
}
