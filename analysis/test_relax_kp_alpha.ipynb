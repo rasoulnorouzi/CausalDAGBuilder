{
 "cells": [
  {
   "cell_type": "code",
   "execution_count": 1,
   "metadata": {},
   "outputs": [],
   "source": [
    "from relax_krippendorffs_alpha import KrippendorffSpanMatcher \n",
    "from itertools import combinations\n",
    "import os"
   ]
  },
  {
   "cell_type": "code",
   "execution_count": 2,
   "metadata": {},
   "outputs": [
    {
     "name": "stdout",
     "output_type": "stream",
     "text": [
      "---\n",
      "Relaxed Krippendorff's alpha: 0.7703097498647655\n"
     ]
    }
   ],
   "source": [
    "data_dir = os.path.dirname(os.path.abspath('__file__'))\n",
    "paths = {\n",
    "        \"rasoul\": os.path.join(data_dir, r'C:\\Users\\norouzin\\Desktop\\CausalDAGBuilder\\analysis\\annotation_datasets\\rasoul.jsonl'),\n",
    "        \"caspar\": os.path.join(data_dir, r'C:\\Users\\norouzin\\Desktop\\CausalDAGBuilder\\analysis\\annotation_datasets\\caspar.jsonl'),\n",
    "        \"bennett\": os.path.join(data_dir, r'C:\\Users\\norouzin\\Desktop\\CausalDAGBuilder\\analysis\\annotation_datasets\\bennett.jsonl'),\n",
    "    }\n",
    "    \n",
    "print(\"---\")\n",
    "# matching_mode set to \"relaxed\"\n",
    "relaxed_matcher = KrippendorffSpanMatcher(annotator_paths=paths, matching_mode=\"relaxed\", targets=[\"cause\", \"effect\"])\n",
    "# Compute and display relaxed Krippendorff's alpha.\n",
    "relaxed_alpha = relaxed_matcher.compute_krippendorff_alpha()\n",
    "print(\"Relaxed Krippendorff's alpha:\", relaxed_alpha)"
   ]
  },
  {
   "cell_type": "code",
   "execution_count": 4,
   "metadata": {},
   "outputs": [
    {
     "name": "stdout",
     "output_type": "stream",
     "text": [
      "rasoul: {'cause', 'NONE', 'cause+effect', 'effect'}\n",
      "caspar: {'cause', 'NONE', 'cause+effect', 'effect'}\n",
      "bennett: {'cause', 'NONE', 'effect'}\n"
     ]
    }
   ],
   "source": [
    "# # Report the unique labels for each annotator.\n",
    "unique_labels = relaxed_matcher.get_unique_labels()\n",
    "for name, labels in unique_labels.items():\n",
    "    print(f\"{name}: {labels}\")\n",
    "# # Report the unique labels for each annotator."
   ]
  },
  {
   "cell_type": "markdown",
   "metadata": {},
   "source": [
    "# computing agreement score with llama 3.2"
   ]
  },
  {
   "cell_type": "code",
   "execution_count": 28,
   "metadata": {},
   "outputs": [
    {
     "data": {
      "text/plain": [
       "'c:\\\\Users\\\\norouzin\\\\Desktop\\\\CausalDAGBuilder\\\\analysis'"
      ]
     },
     "execution_count": 28,
     "metadata": {},
     "output_type": "execute_result"
    }
   ],
   "source": [
    "data_dir = os.path.dirname(os.path.abspath('__file__'))\n",
    "data_dir"
   ]
  },
  {
   "cell_type": "code",
   "execution_count": 29,
   "metadata": {},
   "outputs": [
    {
     "name": "stdout",
     "output_type": "stream",
     "text": [
      "---\n",
      "Relaxed Krippendorff's alpha: 0.436750452522484\n",
      "\n",
      "Pairwise Krippendorff's alpha scores:\n",
      "rasoul vs caspar: 0.8124900486551052\n",
      "rasoul vs bennett: 0.7980364765253285\n",
      "rasoul vs llama3_3b: 0.3397335668271937\n",
      "rasoul vs llama3_8b: 0.344593986475223\n",
      "rasoul vs gemma3_4b: 0.23465611050974183\n",
      "rasoul vs gemma3_12b: 0.36079126981080273\n",
      "rasoul vs qwen25_7b: 0.31565633013700306\n",
      "caspar vs bennett: 0.7043984936179604\n",
      "caspar vs llama3_3b: 0.3658745667397609\n",
      "caspar vs llama3_8b: 0.3922943559461686\n",
      "caspar vs gemma3_4b: 0.23713439782309442\n",
      "caspar vs gemma3_12b: 0.3568291408568422\n",
      "caspar vs qwen25_7b: 0.2766518929371982\n",
      "bennett vs llama3_3b: 0.3570303842815726\n",
      "bennett vs llama3_8b: 0.4357994748235891\n",
      "bennett vs gemma3_4b: 0.30716414081340404\n",
      "bennett vs gemma3_12b: 0.40880564125379537\n",
      "bennett vs qwen25_7b: 0.30548720587760214\n",
      "llama3_3b vs llama3_8b: 0.44101332096229046\n",
      "llama3_3b vs gemma3_4b: 0.4250043959908564\n",
      "llama3_3b vs gemma3_12b: 0.5694515169346486\n",
      "llama3_3b vs qwen25_7b: 0.3873882878645344\n",
      "llama3_8b vs gemma3_4b: 0.4665297772548675\n",
      "llama3_8b vs gemma3_12b: 0.44864376436777664\n",
      "llama3_8b vs qwen25_7b: 0.48097605924401016\n",
      "gemma3_4b vs gemma3_12b: 0.46833685489096144\n",
      "gemma3_4b vs qwen25_7b: 0.3892682995049275\n",
      "gemma3_12b vs qwen25_7b: 0.5055931559485902\n"
     ]
    }
   ],
   "source": [
    "data_dir = os.path.dirname(os.path.abspath('__file__'))\n",
    "\n",
    "# Use absolute paths directly, or if you want to use relative paths, join them with data_dir\n",
    "paths = {\n",
    "    \"rasoul\": os.path.join(data_dir, 'annotation_datasets', 'rasoul.jsonl'),\n",
    "    \"caspar\": os.path.join(data_dir, 'annotation_datasets', 'caspar.jsonl'),\n",
    "    \"bennett\": os.path.join(data_dir, 'annotation_datasets', 'bennett.jsonl'),\n",
    "    \"llama3_3b\": os.path.join(data_dir, 'annotation_datasets', 'doccano_llm33b.jsonl'),\n",
    "    \"llama3_8b\": os.path.join(data_dir, 'annotation_datasets', 'doccano_llama38b.jsonl'),\n",
    "    \"gemma3_4b\": os.path.join(data_dir, 'annotation_datasets', 'doccano_gemma34b.jsonl'),\n",
    "    \"gemma3_12b\": os.path.join(data_dir, 'annotation_datasets', 'doccano_gemma312b.jsonl'),\n",
    "    \"qwen25_7b\": os.path.join(data_dir, 'annotation_datasets', 'doccano_qwen25_7b.jsonl'),\n",
    "}\n",
    "\n",
    "\n",
    "print(\"---\")\n",
    "# matching_mode set to \"relaxed\"\n",
    "relaxed_matcher = KrippendorffSpanMatcher(annotator_paths=paths, matching_mode=\"relaxed\", targets=[\"cause\", \"effect\"])\n",
    "# Compute and display relaxed Krippendorff's alpha.\n",
    "relaxed_alpha = relaxed_matcher.compute_krippendorff_alpha()\n",
    "print(\"Relaxed Krippendorff's alpha:\", relaxed_alpha)\n",
    "\n",
    "# print the combinations of annotators\n",
    "from itertools import combinations\n",
    "\n",
    "# Compute and print Krippendorff's alpha for each pair of annotators\n",
    "print(\"\\nPairwise Krippendorff's alpha scores:\")\n",
    "annotator_names = list(paths.keys())\n",
    "for a1, a2 in combinations(annotator_names, 2):\n",
    "    pair_paths = {a1: paths[a1], a2: paths[a2]}\n",
    "    pair_matcher = KrippendorffSpanMatcher(annotator_paths=pair_paths, matching_mode=\"relaxed\", targets=[\"cause\", \"effect\"])\n",
    "    pair_alpha = pair_matcher.compute_krippendorff_alpha()\n",
    "    print(f\"{a1} vs {a2}: {pair_alpha}\")"
   ]
  },
  {
   "cell_type": "code",
   "execution_count": null,
   "metadata": {},
   "outputs": [],
   "source": []
  }
 ],
 "metadata": {
  "kernelspec": {
   "display_name": "myenv",
   "language": "python",
   "name": "python3"
  },
  "language_info": {
   "codemirror_mode": {
    "name": "ipython",
    "version": 3
   },
   "file_extension": ".py",
   "mimetype": "text/x-python",
   "name": "python",
   "nbconvert_exporter": "python",
   "pygments_lexer": "ipython3",
   "version": "3.12.7"
  }
 },
 "nbformat": 4,
 "nbformat_minor": 2
}
