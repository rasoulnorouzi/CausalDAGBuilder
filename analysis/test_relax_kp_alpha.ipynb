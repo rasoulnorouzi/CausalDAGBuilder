{
 "cells": [
  {
   "cell_type": "code",
   "execution_count": 1,
   "metadata": {},
   "outputs": [],
   "source": [
    "from relax_krippendorffs_alpha import KrippendorffSpanMatcher \n",
    "from itertools import combinations\n",
    "import os"
   ]
  },
  {
   "cell_type": "code",
   "execution_count": 2,
   "metadata": {},
   "outputs": [
    {
     "name": "stdout",
     "output_type": "stream",
     "text": [
      "---\n",
      "Relaxed Krippendorff's alpha: 0.7703097498647655\n"
     ]
    }
   ],
   "source": [
    "data_dir = os.path.dirname(os.path.abspath('__file__'))\n",
    "paths = {\n",
    "        \"rasoul\": os.path.join(data_dir, r'C:\\Users\\norouzin\\Desktop\\CausalDAGBuilder\\analysis\\annotation_datasets\\rasoul.jsonl'),\n",
    "        \"caspar\": os.path.join(data_dir, r'C:\\Users\\norouzin\\Desktop\\CausalDAGBuilder\\analysis\\annotation_datasets\\caspar.jsonl'),\n",
    "        \"bennett\": os.path.join(data_dir, r'C:\\Users\\norouzin\\Desktop\\CausalDAGBuilder\\analysis\\annotation_datasets\\bennett.jsonl'),\n",
    "    }\n",
    "    \n",
    "print(\"---\")\n",
    "# matching_mode set to \"relaxed\"\n",
    "relaxed_matcher = KrippendorffSpanMatcher(annotator_paths=paths, matching_mode=\"relaxed\", targets=[\"cause\", \"effect\"])\n",
    "# Compute and display relaxed Krippendorff's alpha.\n",
    "relaxed_alpha = relaxed_matcher.compute_krippendorff_alpha()\n",
    "print(\"Relaxed Krippendorff's alpha:\", relaxed_alpha)"
   ]
  },
  {
   "cell_type": "code",
   "execution_count": 4,
   "metadata": {},
   "outputs": [
    {
     "name": "stdout",
     "output_type": "stream",
     "text": [
      "rasoul: {'cause', 'effect', 'NONE', 'cause+effect'}\n",
      "caspar: {'cause', 'effect', 'NONE', 'cause+effect'}\n",
      "bennett: {'cause', 'effect', 'NONE'}\n"
     ]
    }
   ],
   "source": [
    "    # # Report the unique labels for each annotator.\n",
    "    unique_labels = relaxed_matcher.get_unique_labels()\n",
    "    for name, labels in unique_labels.items():\n",
    "        print(f\"{name}: {labels}\")"
   ]
  },
  {
   "cell_type": "markdown",
   "metadata": {},
   "source": [
    "# computing agreement score with llama 3.2"
   ]
  },
  {
   "cell_type": "code",
   "execution_count": 12,
   "metadata": {},
   "outputs": [
    {
     "name": "stdout",
     "output_type": "stream",
     "text": [
      "---\n",
      "Relaxed Krippendorff's alpha: 0.5697402136991269\n"
     ]
    }
   ],
   "source": [
    "data_dir = os.path.dirname(os.path.abspath('__file__'))\n",
    "paths = {\n",
    "        \"rasoul\": os.path.join(data_dir, r'C:\\Users\\norouzin\\Desktop\\CausalDAGBuilder\\analysis\\annotation_datasets\\rasoul.jsonl'),\n",
    "        \"caspar\": os.path.join(data_dir, r'C:\\Users\\norouzin\\Desktop\\CausalDAGBuilder\\analysis\\annotation_datasets\\caspar.jsonl'),\n",
    "        \"bennett\": os.path.join(data_dir, r'C:\\Users\\norouzin\\Desktop\\CausalDAGBuilder\\analysis\\annotation_datasets\\bennett.jsonl'),\n",
    "        \"llama3.2\": os.path.join(data_dir, r'C:\\Users\\norouzin\\Desktop\\CausalDAGBuilder\\analysis\\annotation_datasets\\doccano_llm32.json'),\n",
    "    }\n",
    "    \n",
    "print(\"---\")\n",
    "# matching_mode set to \"relaxed\"\n",
    "relaxed_matcher = KrippendorffSpanMatcher(annotator_paths=paths, matching_mode=\"relaxed\", targets=[\"cause\", \"effect\"])\n",
    "# Compute and display relaxed Krippendorff's alpha.\n",
    "relaxed_alpha = relaxed_matcher.compute_krippendorff_alpha()\n",
    "print(\"Relaxed Krippendorff's alpha:\", relaxed_alpha)"
   ]
  },
  {
   "cell_type": "code",
   "execution_count": 13,
   "metadata": {},
   "outputs": [
    {
     "name": "stdout",
     "output_type": "stream",
     "text": [
      "Krippendorff's alpha between rasoul and caspar: 0.8124900486551052\n",
      "Krippendorff's alpha between rasoul and bennett: 0.7980364765253285\n",
      "Krippendorff's alpha between rasoul and llama3.2: 0.3397335668271937\n",
      "Krippendorff's alpha between caspar and bennett: 0.7043984936179604\n",
      "Krippendorff's alpha between caspar and llama3.2: 0.3658745667397609\n",
      "Krippendorff's alpha between bennett and llama3.2: 0.3570303842815726\n"
     ]
    }
   ],
   "source": [
    "# make a combination of all annotators\n",
    "annotator_combinations = list(combinations(paths.keys(), 2))\n",
    "# Iterate through each combination of annotators and compute Krippendorff's alpha for each pair\n",
    "for annotator1, annotator2 in annotator_combinations:\n",
    "    # Create a new KrippendorffSpanMatcher instance for the current pair of annotators\n",
    "    pair_matcher = KrippendorffSpanMatcher(\n",
    "        annotator_paths={annotator1: paths[annotator1], annotator2: paths[annotator2]},\n",
    "        matching_mode=\"relaxed\",\n",
    "        targets=[\"cause\", \"effect\"]\n",
    "    )\n",
    "    \n",
    "    # Compute and display Krippendorff's alpha for the current pair of annotators\n",
    "    alpha = pair_matcher.compute_krippendorff_alpha()\n",
    "    print(f\"Krippendorff's alpha between {annotator1} and {annotator2}:\", alpha)\n",
    "# Report the unique labels for each annotator in the pair"
   ]
  },
  {
   "cell_type": "code",
   "execution_count": null,
   "metadata": {},
   "outputs": [],
   "source": []
  }
 ],
 "metadata": {
  "kernelspec": {
   "display_name": "myenv",
   "language": "python",
   "name": "python3"
  },
  "language_info": {
   "codemirror_mode": {
    "name": "ipython",
    "version": 3
   },
   "file_extension": ".py",
   "mimetype": "text/x-python",
   "name": "python",
   "nbconvert_exporter": "python",
   "pygments_lexer": "ipython3",
   "version": "3.12.7"
  }
 },
 "nbformat": 4,
 "nbformat_minor": 2
}
