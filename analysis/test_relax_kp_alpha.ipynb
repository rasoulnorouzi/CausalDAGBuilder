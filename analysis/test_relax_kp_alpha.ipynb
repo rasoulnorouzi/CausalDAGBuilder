{
 "cells": [
  {
   "cell_type": "code",
   "execution_count": null,
   "metadata": {},
   "outputs": [],
   "source": [
    "from relax_krippendorffs_alpha import KrippendorffSpanMatcher \n",
    "from itertools import combinations\n",
    "import os"
   ]
  },
  {
   "cell_type": "code",
   "execution_count": null,
   "metadata": {},
   "outputs": [
    {
     "name": "stdout",
     "output_type": "stream",
     "text": [
      "---\n",
      "Relaxed Krippendorff's alpha: 0.5524583274968482\n"
     ]
    }
   ],
   "source": [
    "data_dir = os.path.dirname(os.path.abspath('__file__'))\n",
    "paths = {\n",
    "        \"rasoul\": os.path.join(data_dir, r'C:\\Users\\norouzin\\Desktop\\CausalDAGBuilder\\analysis\\annotation_datasets\\rasoul.jsonl'),\n",
    "        \"caspar\": os.path.join(data_dir, r'C:\\Users\\norouzin\\Desktop\\CausalDAGBuilder\\analysis\\annotation_datasets\\caspar.jsonl'),\n",
    "        \"bennett\": os.path.join(data_dir, r'C:\\Users\\norouzin\\Desktop\\CausalDAGBuilder\\analysis\\annotation_datasets\\bennett.jsonl'),\n",
    "    }\n",
    "    \n",
    "print(\"---\")\n",
    "# matching_mode set to \"relaxed\"\n",
    "relaxed_matcher = KrippendorffSpanMatcher(annotator_paths=paths, matching_mode=\"relaxed\", targets=[\"cause\", \"effect\"])\n",
    "# Compute and display relaxed Krippendorff's alpha.\n",
    "relaxed_alpha = relaxed_matcher.compute_krippendorff_alpha()\n",
    "print(\"Relaxed Krippendorff's alpha:\", relaxed_alpha)"
   ]
  },
  {
   "cell_type": "code",
   "execution_count": 22,
   "metadata": {},
   "outputs": [
    {
     "name": "stdout",
     "output_type": "stream",
     "text": [
      "rasoul: {'effect', 'cause'}\n",
      "caspar: {'effect', 'cause'}\n",
      "bennett: {'effect', 'cause'}\n"
     ]
    }
   ],
   "source": [
    "    # # Report the unique labels for each annotator.\n",
    "    unique_labels = relaxed_matcher.get_unique_labels()\n",
    "    for name, labels in unique_labels.items():\n",
    "        print(f\"{name}: {labels}\")"
   ]
  },
  {
   "cell_type": "markdown",
   "metadata": {},
   "source": [
    "# computing agreement score with llama 3.2"
   ]
  },
  {
   "cell_type": "code",
   "execution_count": 23,
   "metadata": {},
   "outputs": [
    {
     "data": {
      "text/plain": [
       "'c:\\\\Users\\\\norouzin\\\\Desktop\\\\CausalDAGBuilder\\\\analysis'"
      ]
     },
     "execution_count": 23,
     "metadata": {},
     "output_type": "execute_result"
    }
   ],
   "source": [
    "data_dir = os.path.dirname(os.path.abspath('__file__'))\n",
    "data_dir"
   ]
  },
  {
   "cell_type": "code",
   "execution_count": 24,
   "metadata": {},
   "outputs": [
    {
     "name": "stdout",
     "output_type": "stream",
     "text": [
      "---\n"
     ]
    },
    {
     "ename": "TypeError",
     "evalue": "KrippendorffSpanMatcher.__init__() got an unexpected keyword argument 'matching_mode'",
     "output_type": "error",
     "traceback": [
      "\u001b[31m---------------------------------------------------------------------------\u001b[39m",
      "\u001b[31mTypeError\u001b[39m                                 Traceback (most recent call last)",
      "\u001b[36mCell\u001b[39m\u001b[36m \u001b[39m\u001b[32mIn[24]\u001b[39m\u001b[32m, line 18\u001b[39m\n\u001b[32m     16\u001b[39m \u001b[38;5;28mprint\u001b[39m(\u001b[33m\"\u001b[39m\u001b[33m---\u001b[39m\u001b[33m\"\u001b[39m)\n\u001b[32m     17\u001b[39m \u001b[38;5;66;03m# matching_mode set to \"relaxed\"\u001b[39;00m\n\u001b[32m---> \u001b[39m\u001b[32m18\u001b[39m relaxed_matcher = \u001b[43mKrippendorffSpanMatcher\u001b[49m\u001b[43m(\u001b[49m\u001b[43mannotator_paths\u001b[49m\u001b[43m=\u001b[49m\u001b[43mpaths\u001b[49m\u001b[43m,\u001b[49m\u001b[43m \u001b[49m\u001b[43mmatching_mode\u001b[49m\u001b[43m=\u001b[49m\u001b[33;43m\"\u001b[39;49m\u001b[33;43mrelaxed\u001b[39;49m\u001b[33;43m\"\u001b[39;49m\u001b[43m,\u001b[49m\u001b[43m \u001b[49m\u001b[43mtargets\u001b[49m\u001b[43m=\u001b[49m\u001b[43m[\u001b[49m\u001b[33;43m\"\u001b[39;49m\u001b[33;43mcause\u001b[39;49m\u001b[33;43m\"\u001b[39;49m\u001b[43m,\u001b[49m\u001b[43m \u001b[49m\u001b[33;43m\"\u001b[39;49m\u001b[33;43meffect\u001b[39;49m\u001b[33;43m\"\u001b[39;49m\u001b[43m]\u001b[49m\u001b[43m)\u001b[49m\n\u001b[32m     19\u001b[39m \u001b[38;5;66;03m# Compute and display relaxed Krippendorff's alpha.\u001b[39;00m\n\u001b[32m     20\u001b[39m relaxed_alpha = relaxed_matcher.compute_krippendorff_alpha()\n",
      "\u001b[31mTypeError\u001b[39m: KrippendorffSpanMatcher.__init__() got an unexpected keyword argument 'matching_mode'"
     ]
    }
   ],
   "source": [
    "data_dir = os.path.dirname(os.path.abspath('__file__'))\n",
    "\n",
    "# Use absolute paths directly, or if you want to use relative paths, join them with data_dir\n",
    "paths = {\n",
    "    \"rasoul\": os.path.join(data_dir, 'annotation_datasets', 'rasoul.jsonl'),\n",
    "    \"caspar\": os.path.join(data_dir, 'annotation_datasets', 'caspar.jsonl'),\n",
    "    \"bennett\": os.path.join(data_dir, 'annotation_datasets', 'bennett.jsonl'),\n",
    "    \"llama3_3b\": os.path.join(data_dir, 'annotation_datasets', 'doccano_llm33b.jsonl'),\n",
    "    \"llama3_8b\": os.path.join(data_dir, 'annotation_datasets', 'doccano_llama38b.jsonl'),\n",
    "    \"gemma3_4b\": os.path.join(data_dir, 'annotation_datasets', 'doccano_gemma34b.jsonl'),\n",
    "    \"gemma3_12b\": os.path.join(data_dir, 'annotation_datasets', 'doccano_gemma312b.jsonl'),\n",
    "    \"qwen25_7b\": os.path.join(data_dir, 'annotation_datasets', 'doccano_qwen25_7b.jsonl'),\n",
    "}\n",
    "\n",
    "\n",
    "print(\"---\")\n",
    "# matching_mode set to \"relaxed\"\n",
    "relaxed_matcher = KrippendorffSpanMatcher(annotator_paths=paths, matching_mode=\"relaxed\", targets=[\"cause\", \"effect\"])\n",
    "# Compute and display relaxed Krippendorff's alpha.\n",
    "relaxed_alpha = relaxed_matcher.compute_krippendorff_alpha()\n",
    "print(\"Relaxed Krippendorff's alpha:\", relaxed_alpha)\n",
    "\n",
    "# print the combinations of annotators\n",
    "from itertools import combinations\n",
    "\n",
    "# Compute and print Krippendorff's alpha for each pair of annotators\n",
    "print(\"\\nPairwise Krippendorff's alpha scores:\")\n",
    "annotator_names = list(paths.keys())\n",
    "for a1, a2 in combinations(annotator_names, 2):\n",
    "    pair_paths = {a1: paths[a1], a2: paths[a2]}\n",
    "    pair_matcher = KrippendorffSpanMatcher(annotator_paths=pair_paths, matching_mode=\"relaxed\", targets=[\"cause\", \"effect\"])\n",
    "    pair_alpha = pair_matcher.compute_krippendorff_alpha()\n",
    "    print(f\"{a1} vs {a2}: {pair_alpha}\")"
   ]
  },
  {
   "cell_type": "code",
   "execution_count": null,
   "metadata": {},
   "outputs": [],
   "source": []
  }
 ],
 "metadata": {
  "kernelspec": {
   "display_name": "myenv",
   "language": "python",
   "name": "python3"
  },
  "language_info": {
   "codemirror_mode": {
    "name": "ipython",
    "version": 3
   },
   "file_extension": ".py",
   "mimetype": "text/x-python",
   "name": "python",
   "nbconvert_exporter": "python",
   "pygments_lexer": "ipython3",
   "version": "3.12.7"
  }
 },
 "nbformat": 4,
 "nbformat_minor": 2
}
